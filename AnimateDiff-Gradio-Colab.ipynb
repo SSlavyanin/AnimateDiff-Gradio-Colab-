{
 "cells": [
  {
   "cell_type": "markdown",
   "metadata": {},
   "source": [
    "# 📘 AnimateDiff Gradio Colab\n",
    "### Text2Video + Image2Video\n",
    "**Автоматическая установка + интерфейс**\n",
    "\n",
    "By ChatGPT · using `lucataco/AnimateDiff`"
   ]
  },
  {
   "cell_type": "code",
   "execution_count": null,
   "metadata": {},
   "outputs": [],
   "source": [
    "# 🔗 Подключение Google Диска\n",
    "from google.colab import drive\n",
    "drive.mount('/content/drive')"
   ]
  },
  {
   "cell_type": "code",
   "execution_count": null,
   "metadata": {},
   "outputs": [],
   "source": [
    "# 📥 Клонирование AnimateDiff\n",
    "!git clone https://github.com/lucataco/AnimateDiff.git\n",
    "%cd AnimateDiff"
   ]
  },
  {
   "cell_type": "code",
   "execution_count": null,
   "metadata": {},
   "outputs": [],
   "source": [
    "# 📦 Установка зависимостей\n",
    "!pip install -r requirements.txt\n",
    "!pip install xformers==0.0.25.post1 --index-url https://download.pytorch.org/whl/cu118"
   ]
  },
  {
   "cell_type": "code",
   "execution_count": null,
   "metadata": {},
   "outputs": [],
   "source": [
    "# 📁 Папка для вывода на Google Диске\n",
    "import os\n",
    "output_dir = \"/content/drive/MyDrive/AnimateDiff_outputs\"\n",
    "os.makedirs(output_dir, exist_ok=True)"
   ]
  },
  {
   "cell_type": "code",
   "execution_count": null,
   "metadata": {},
   "outputs": [],
   "source": [
    "# 🚀 Запуск Gradio-интерфейса\n",
    "!python app.py --share"
   ]
  }
 ],
 "metadata": {
  "colab": {
   "name": "AnimateDiff_UI_Colab.ipynb",
   "provenance": []
  },
  "kernelspec": {
   "display_name": "Python 3",
   "language": "python",
   "name": "python3"
  },
  "language_info": {
   "name": "python"
  }
 },
 "nbformat": 4,
 "nbformat_minor": 0
}
